{
  "nbformat": 4,
  "nbformat_minor": 0,
  "metadata": {
    "colab": {
      "name": "Untitled0.ipynb",
      "provenance": []
    },
    "kernelspec": {
      "name": "python3",
      "display_name": "Python 3"
    }
  },
  "cells": [
    {
      "cell_type": "code",
      "metadata": {
        "id": "TtnzG3jdD_hr",
        "colab_type": "code",
        "colab": {}
      },
      "source": [
        "# collection of types"
      ],
      "execution_count": 0,
      "outputs": []
    },
    {
      "cell_type": "markdown",
      "metadata": {
        "id": "XSrwwMa3EfwQ",
        "colab_type": "text"
      },
      "source": [
        "## collection of types:\n",
        "\n",
        "1.   List \n",
        "2.   tuple\n",
        "3. dictionary"
      ]
    },
    {
      "cell_type": "code",
      "metadata": {
        "id": "1wcAUrOMGEB1",
        "colab_type": "code",
        "outputId": "ab757e75-4db5-458e-ce7d-eafd109b040d",
        "colab": {
          "base_uri": "https://localhost:8080/",
          "height": 34
        }
      },
      "source": [
        "list1=[12,13,45.6,\"abc\",True]\n",
        "list1.append(400)\n",
        "list1.append(14.2)\n",
        "print(list1)"
      ],
      "execution_count": 0,
      "outputs": [
        {
          "output_type": "stream",
          "text": [
            "[12, 13, 45.6, 'abc', True, 400, 14.2]\n"
          ],
          "name": "stdout"
        }
      ]
    },
    {
      "cell_type": "code",
      "metadata": {
        "id": "irx3Y_KyG5ce",
        "colab_type": "code",
        "outputId": "d10ab9ac-9b6f-4f9b-e7e8-e44c657a5316",
        "colab": {
          "base_uri": "https://localhost:8080/",
          "height": 34
        }
      },
      "source": [
        "list1=[12,13,45.6,\"abc\",True]\n",
        "list1.append(400)\n",
        "list1.append(14.2)\n",
        "list1.insert(2,892)\n",
        "print(list1)"
      ],
      "execution_count": 0,
      "outputs": [
        {
          "output_type": "stream",
          "text": [
            "[12, 13, 892, 45.6, 'abc', True, 400, 14.2]\n"
          ],
          "name": "stdout"
        }
      ]
    },
    {
      "cell_type": "code",
      "metadata": {
        "id": "mAMRKgu2Hacx",
        "colab_type": "code",
        "outputId": "4167189b-b23c-4a2d-a82e-bba0c5901eb5",
        "colab": {
          "base_uri": "https://localhost:8080/",
          "height": 51
        }
      },
      "source": [
        "list1=[12,13,45.6,\"abc\",45.6,True]\n",
        "list1.append(400)\n",
        "list1.append(14.2)\n",
        "list1.insert(2,892)\n",
        "print(list1)\n",
        "list1.extend([500,227,27])\n",
        "print(list1)\n"
      ],
      "execution_count": 0,
      "outputs": [
        {
          "output_type": "stream",
          "text": [
            "[12, 13, 892, 45.6, 'abc', True, 400, 14.2]\n",
            "[12, 13, 892, 45.6, 'abc', True, 400, 14.2, 500, 227, 27]\n"
          ],
          "name": "stdout"
        }
      ]
    },
    {
      "cell_type": "code",
      "metadata": {
        "id": "I31kl0hEH1Cy",
        "colab_type": "code",
        "outputId": "556073db-ff03-425b-c215-58893e68a5cf",
        "colab": {
          "base_uri": "https://localhost:8080/",
          "height": 34
        }
      },
      "source": [
        "del list1[3]\n",
        "print(list1)"
      ],
      "execution_count": 0,
      "outputs": [
        {
          "output_type": "stream",
          "text": [
            "[227, 500, 14.2, 45.6, 13]\n"
          ],
          "name": "stdout"
        }
      ]
    },
    {
      "cell_type": "code",
      "metadata": {
        "id": "rcnjvBTJImBb",
        "colab_type": "code",
        "outputId": "956c6499-5056-4c08-ea5e-f940c47a6a5a",
        "colab": {
          "base_uri": "https://localhost:8080/",
          "height": 34
        }
      },
      "source": [
        "list1.reverse()\n",
        "list1"
      ],
      "execution_count": 0,
      "outputs": [
        {
          "output_type": "execute_result",
          "data": {
            "text/plain": [
              "[227, 500, 14.2, 'abc', 45.6, 13]"
            ]
          },
          "metadata": {
            "tags": []
          },
          "execution_count": 17
        }
      ]
    },
    {
      "cell_type": "code",
      "metadata": {
        "id": "1u_CvUTKI6Wu",
        "colab_type": "code",
        "outputId": "d451977c-38cf-4046-f9b8-447e9d9afe69",
        "colab": {
          "base_uri": "https://localhost:8080/",
          "height": 34
        }
      },
      "source": [
        "list1.sort(reverse=True)\n",
        "list1"
      ],
      "execution_count": 0,
      "outputs": [
        {
          "output_type": "execute_result",
          "data": {
            "text/plain": [
              "[500, 227, 45.6, 14.2, 13]"
            ]
          },
          "metadata": {
            "tags": []
          },
          "execution_count": 20
        }
      ]
    },
    {
      "cell_type": "code",
      "metadata": {
        "id": "OVpRKRWaKkIz",
        "colab_type": "code",
        "outputId": "06af74b0-99f5-4796-fbd7-c1f472080088",
        "colab": {
          "base_uri": "https://localhost:8080/",
          "height": 34
        }
      },
      "source": [
        "list1.count()"
      ],
      "execution_count": 0,
      "outputs": [
        {
          "output_type": "execute_result",
          "data": {
            "text/plain": [
              "0"
            ]
          },
          "metadata": {
            "tags": []
          },
          "execution_count": 21
        }
      ]
    },
    {
      "cell_type": "code",
      "metadata": {
        "id": "ppP66cUCK9A6",
        "colab_type": "code",
        "colab": {}
      },
      "source": [
        ""
      ],
      "execution_count": 0,
      "outputs": []
    },
    {
      "cell_type": "markdown",
      "metadata": {
        "id": "leqmuTPHLHN4",
        "colab_type": "text"
      },
      "source": [
        "## Accept three subject marks of the student and store values in a list \n",
        "## return total marks of the students"
      ]
    },
    {
      "cell_type": "code",
      "metadata": {
        "id": "69BfIiLeLYu0",
        "colab_type": "code",
        "outputId": "84f9fac6-3ddb-429b-b941-008da63715b8",
        "colab": {
          "base_uri": "https://localhost:8080/",
          "height": 85
        }
      },
      "source": [
        "m1=int(input())\n",
        "m2=int(input())\n",
        "m3=int(input())\n",
        "list2=[m1,m2,m3]\n",
        "Total=m1+m2+m3\n",
        "print(Total)"
      ],
      "execution_count": 0,
      "outputs": [
        {
          "output_type": "stream",
          "text": [
            "40\n",
            "50\n",
            "0\n",
            "90\n"
          ],
          "name": "stdout"
        }
      ]
    },
    {
      "cell_type": "code",
      "metadata": {
        "id": "Xw4om1CTMTKi",
        "colab_type": "code",
        "outputId": "27beb749-2e20-40c1-c549-649d7e09e064",
        "colab": {
          "base_uri": "https://localhost:8080/",
          "height": 102
        }
      },
      "source": [
        "## Accept three subject marks of the student and store values in a list \n",
        "## return total marks of the students\n",
        "n=int(input(\"enter no. of subjects\"))\n",
        "marks=[]\n",
        "for i in range(n):\n",
        "  marks.append(int(input()))\n",
        "print(\"sum=\",sum(marks))\n"
      ],
      "execution_count": 0,
      "outputs": [
        {
          "output_type": "stream",
          "text": [
            "enter no. of subjects3\n",
            "70\n",
            "80\n",
            "90\n",
            "sum= 240\n"
          ],
          "name": "stdout"
        }
      ]
    },
    {
      "cell_type": "code",
      "metadata": {
        "id": "Td7AmzpMOjte",
        "colab_type": "code",
        "outputId": "2cdcefdc-6f2f-43c9-b1bd-8d4c29cc4a32",
        "colab": {
          "base_uri": "https://localhost:8080/",
          "height": 34
        }
      },
      "source": [
        "# Tuple-->indexed,ordered,allow,duplicate,values,immutable\n",
        "# use()\n",
        "t1=(23,24,45,67)\n",
        "l1=list(t1)\n",
        "l1[2]=100\n",
        "t1=tuple(l1)\n",
        "l1"
      ],
      "execution_count": 0,
      "outputs": [
        {
          "output_type": "execute_result",
          "data": {
            "text/plain": [
              "[23, 24, 100, 67]"
            ]
          },
          "metadata": {
            "tags": []
          },
          "execution_count": 31
        }
      ]
    },
    {
      "cell_type": "code",
      "metadata": {
        "id": "MTEtWngUQwlp",
        "colab_type": "code",
        "outputId": "ff6d63ea-4499-4e11-e27c-116e16567c6d",
        "colab": {
          "base_uri": "https://localhost:8080/",
          "height": 1000
        }
      },
      "source": [
        "help(\"tuple\")"
      ],
      "execution_count": 0,
      "outputs": [
        {
          "output_type": "stream",
          "text": [
            "Help on class tuple in module builtins:\n",
            "\n",
            "class tuple(object)\n",
            " |  tuple() -> empty tuple\n",
            " |  tuple(iterable) -> tuple initialized from iterable's items\n",
            " |  \n",
            " |  If the argument is a tuple, the return value is the same object.\n",
            " |  \n",
            " |  Methods defined here:\n",
            " |  \n",
            " |  __add__(self, value, /)\n",
            " |      Return self+value.\n",
            " |  \n",
            " |  __contains__(self, key, /)\n",
            " |      Return key in self.\n",
            " |  \n",
            " |  __eq__(self, value, /)\n",
            " |      Return self==value.\n",
            " |  \n",
            " |  __ge__(self, value, /)\n",
            " |      Return self>=value.\n",
            " |  \n",
            " |  __getattribute__(self, name, /)\n",
            " |      Return getattr(self, name).\n",
            " |  \n",
            " |  __getitem__(self, key, /)\n",
            " |      Return self[key].\n",
            " |  \n",
            " |  __getnewargs__(...)\n",
            " |  \n",
            " |  __gt__(self, value, /)\n",
            " |      Return self>value.\n",
            " |  \n",
            " |  __hash__(self, /)\n",
            " |      Return hash(self).\n",
            " |  \n",
            " |  __iter__(self, /)\n",
            " |      Implement iter(self).\n",
            " |  \n",
            " |  __le__(self, value, /)\n",
            " |      Return self<=value.\n",
            " |  \n",
            " |  __len__(self, /)\n",
            " |      Return len(self).\n",
            " |  \n",
            " |  __lt__(self, value, /)\n",
            " |      Return self<value.\n",
            " |  \n",
            " |  __mul__(self, value, /)\n",
            " |      Return self*value.\n",
            " |  \n",
            " |  __ne__(self, value, /)\n",
            " |      Return self!=value.\n",
            " |  \n",
            " |  __new__(*args, **kwargs) from builtins.type\n",
            " |      Create and return a new object.  See help(type) for accurate signature.\n",
            " |  \n",
            " |  __repr__(self, /)\n",
            " |      Return repr(self).\n",
            " |  \n",
            " |  __rmul__(self, value, /)\n",
            " |      Return value*self.\n",
            " |  \n",
            " |  count(...)\n",
            " |      T.count(value) -> integer -- return number of occurrences of value\n",
            " |  \n",
            " |  index(...)\n",
            " |      T.index(value, [start, [stop]]) -> integer -- return first index of value.\n",
            " |      Raises ValueError if the value is not present.\n",
            "\n"
          ],
          "name": "stdout"
        }
      ]
    },
    {
      "cell_type": "code",
      "metadata": {
        "id": "nR_FgnPoQ1Xu",
        "colab_type": "code",
        "outputId": "336e909f-e8ba-4b40-d4a3-6ea6d13259c6",
        "colab": {
          "base_uri": "https://localhost:8080/",
          "height": 34
        }
      },
      "source": [
        "# dic1={key1:value1,key2:value2,..........}\n",
        "# rules for keys:\n",
        "# 1.keys should be unique\n",
        "# 2.keys should be immutable(numbers,strings,tuple)\n",
        "dict1={\"name\":\"bittu\",\"roll number\":27,\"course\":\"cse\"}\n",
        "# adding new entry\n",
        "dict1[\"address\"] = \"hyd\"\n",
        "dict1"
      ],
      "execution_count": 0,
      "outputs": [
        {
          "output_type": "execute_result",
          "data": {
            "text/plain": [
              "{'address': 'hyd', 'course': 'cse', 'name': 'bittu', 'roll number': 27}"
            ]
          },
          "metadata": {
            "tags": []
          },
          "execution_count": 34
        }
      ]
    },
    {
      "cell_type": "code",
      "metadata": {
        "id": "S6X_tqFKVGvi",
        "colab_type": "code",
        "outputId": "c3be0bb0-e486-4ca8-d36e-0abe374dedfb",
        "colab": {
          "base_uri": "https://localhost:8080/",
          "height": 34
        }
      },
      "source": [
        "del dict1[\"course\"]\n",
        "dict1"
      ],
      "execution_count": 0,
      "outputs": [
        {
          "output_type": "execute_result",
          "data": {
            "text/plain": [
              "{'address': 'hyd', 'name': 'bittu', 'roll number': 27}"
            ]
          },
          "metadata": {
            "tags": []
          },
          "execution_count": 36
        }
      ]
    },
    {
      "cell_type": "code",
      "metadata": {
        "id": "2vhW28LFWP1i",
        "colab_type": "code",
        "outputId": "70ea801f-5b64-490f-fd7c-e6b73c04d351",
        "colab": {
          "base_uri": "https://localhost:8080/",
          "height": 34
        }
      },
      "source": [
        "dict1[\"course\"]=\"ban\"\n",
        "dict1"
      ],
      "execution_count": 0,
      "outputs": [
        {
          "output_type": "execute_result",
          "data": {
            "text/plain": [
              "{'address': 'hyd', 'course': 'ban', 'name': 'bittu', 'roll number': 27}"
            ]
          },
          "metadata": {
            "tags": []
          },
          "execution_count": 37
        }
      ]
    },
    {
      "cell_type": "code",
      "metadata": {
        "id": "QQHeFp0mW0Uc",
        "colab_type": "code",
        "colab": {}
      },
      "source": [
        ""
      ],
      "execution_count": 0,
      "outputs": []
    }
  ]
}